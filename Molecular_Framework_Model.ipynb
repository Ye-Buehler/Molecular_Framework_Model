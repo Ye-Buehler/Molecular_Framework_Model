{
 "cells": [
  {
   "cell_type": "markdown",
   "id": "4f012aac",
   "metadata": {},
   "source": [
    "# **_Molecular Framework Database Building_**"
   ]
  },
  {
   "cell_type": "markdown",
   "id": "6eb8758a",
   "metadata": {},
   "source": [
    "## Environment Setting Up and Packages Importing:\n",
    "        !conda activate env-framework \n",
    "        Please create the conda environment from the .yml file: framework.yml"
   ]
  },
  {
   "cell_type": "code",
   "execution_count": null,
   "id": "4de9af4d",
   "metadata": {},
   "outputs": [],
   "source": [
    "import sys\n",
    "import time\n",
    "\n",
    "import pandas as pd\n",
    "from tqdm import tqdm \n",
    "import pickle\n",
    "import numpy as np\n",
    "\n",
    "#RDKit:\n",
    "from rdkit import Chem\n",
    "from rdkit.Chem import AllChem\n",
    "from rdkit.Chem import rdchem\n",
    "from rdkit.Chem.rdmolops import *\n",
    "from rdkit.Chem import PandasTools\n",
    "from rdkit.Chem.Draw import MolsToGridImage"
   ]
  },
  {
   "cell_type": "markdown",
   "id": "c5a82eaf",
   "metadata": {},
   "source": [
    "### 1. Input the Data (usually for multiple-input-file cases):"
   ]
  },
  {
   "cell_type": "code",
   "execution_count": null,
   "id": "a6653278",
   "metadata": {},
   "outputs": [],
   "source": [
    "# To check the time running the code:\n",
    "start_time = time.time()"
   ]
  },
  {
   "cell_type": "markdown",
   "id": "5d07d2f8",
   "metadata": {},
   "source": [
    "#### (1) If you are using command line, for example .csv files:"
   ]
  },
  {
   "cell_type": "code",
   "execution_count": null,
   "id": "31ba0dce",
   "metadata": {},
   "outputs": [],
   "source": [
    "#scr_path = sys.argv[1]\n",
    "#filename = (scr_path.split('/')[-1]).split('.')[0]\n",
    "\n",
    "#df_input = pd.read_csv(scr_path,  sep = ' ', header = None, names = ['SMILES'])"
   ]
  },
  {
   "cell_type": "markdown",
   "id": "19f02f55",
   "metadata": {},
   "source": [
    "#### (2) If you are using Jupyter Notebook, for example .csv files:"
   ]
  },
  {
   "cell_type": "markdown",
   "id": "228f52bf",
   "metadata": {},
   "source": [
    "        Some formats that you may encounter:\n",
    "\n",
    "        (1) Read .sdf file:\n",
    "        f = 'filename.sdf'\n",
    "        df_input = PandasTools.LoadSDF(f, embedProps=True, molColName=None, smilesName='smiles')\n",
    "\n",
    "        (2) Read .csv or csv.gz file:\n",
    "        df_input = pd.read_csv('filename.csv')\n",
    "        df_input = pd.read_csv('filename.csv.gz')\n",
    "\n",
    "        (3) Read .pickle file:\n",
    "        df_input = pd.read_pickle('filename.pickle')\n",
    "\n",
    "        (4) Read .smi files:\n",
    "        df = pd.read_csv(\"filename.smi\", sep=' ', header=None, names=['SMILES'])\n",
    "\n",
    "        (5) Read .xml files:\n",
    "        import xml.etree.ElementTree as ET\n",
    "        xml_data = open('data/drugbank_full_database.xml', 'r').read()\n",
    "        root = ET.XML(xml_data)"
   ]
  },
  {
   "cell_type": "code",
   "execution_count": null,
   "id": "f32496e4",
   "metadata": {},
   "outputs": [],
   "source": [
    "df_input = pd.read_csv('example.smi',  sep=' ', header=None, names=['SMILES'])\n",
    "df_input"
   ]
  },
  {
   "cell_type": "markdown",
   "id": "19f02f55",
   "metadata": {},
   "source": [
    "#### For Single SMILES cases:"
   ]
  },
  {
   "cell_type": "code",
   "execution_count": null,
   "id": "1f8d5e20",
   "metadata": {},
   "outputs": [],
   "source": [
    "# For example: \n",
    "# df_input = pd.DataFrame({'SMILES':['CCCC1=CC(=CC=C1B(O)O)C(O)=O']})"
   ]
  },
  {
   "cell_type": "markdown",
   "id": "ee8b088a",
   "metadata": {},
   "source": [
    "#### (3) Clean the Raw Database:"
   ]
  },
  {
   "cell_type": "code",
   "execution_count": null,
   "id": "978e69f1",
   "metadata": {},
   "outputs": [],
   "source": [
    "# Remove the duplicates in the original dataset:\n",
    "df_input.drop_duplicates(subset = \"SMILES\", keep = 'last', inplace = True)\n",
    "df_input = df_input.reset_index(drop = True)\n",
    "df_input"
   ]
  },
  {
   "cell_type": "code",
   "execution_count": null,
   "id": "25d78b3c",
   "metadata": {},
   "outputs": [],
   "source": [
    "# To check the size of the database:\n",
    "len(df_input)"
   ]
  },
  {
   "cell_type": "code",
   "execution_count": null,
   "id": "179911ea",
   "metadata": {},
   "outputs": [],
   "source": [
    "print('This databse contains', len(df_input), 'compounds')"
   ]
  },
  {
   "cell_type": "markdown",
   "id": "5c96c5b2",
   "metadata": {},
   "source": [
    "### 2. Create a Data Output Dataframe:"
   ]
  },
  {
   "cell_type": "code",
   "execution_count": null,
   "id": "574522a4",
   "metadata": {},
   "outputs": [],
   "source": [
    "df_output = pd.DataFrame({'Input_Smiles':df_input['SMILES']}) \n",
    "df_output['Framework'] = 'framework'\n",
    "df_output"
   ]
  },
  {
   "cell_type": "markdown",
   "id": "d8508728",
   "metadata": {},
   "source": [
    "### 3. Break Molecules from All SMILES:\n",
    "\n"
   ]
  },
  {
   "cell_type": "markdown",
   "id": "cc30c06a",
   "metadata": {},
   "source": [
    "#### (1) Remove All the Non-Bond Ions:\n",
    "        Remove all the dissociation parts in the SMILES"
   ]
  },
  {
   "cell_type": "markdown",
   "id": "00b7af01",
   "metadata": {},
   "source": [
    "#### (2) Simplify All Bonds:\n",
    "        Convert all bonds into single bonds\n",
    "\n",
    "#### (3) Simplify All Atoms:\n",
    "        Convert all atoms into carbon atoms​"
   ]
  },
  {
   "cell_type": "markdown",
   "id": "c9ddb08f",
   "metadata": {},
   "source": [
    "#### (4) Remove All the Terminal Atoms​:\n",
    "        Get rid of all side chains, preserve only the main scaffold​"
   ]
  },
  {
   "cell_type": "code",
   "execution_count": null,
   "id": "0bf276cc",
   "metadata": {},
   "outputs": [],
   "source": [
    "count = 0\n",
    "my_list_invaild = []\n",
    "\n",
    "for q in tqdm(range(0, len(df_output)), desc = 'Loop 1'):\n",
    "    try:  \n",
    "        # 1.remove all the non-bond ions:\n",
    "        qsmiles = df_output['Input_Smiles'][q]\n",
    "        qsmiles = qsmiles.replace('.[Li+]', '')\n",
    "        qsmiles = qsmiles.replace('.[Na+]', '')\n",
    "        qsmiles = qsmiles.replace('.[K+]', '')\n",
    "        qsmiles = qsmiles.replace('.[F-]', '')\n",
    "        qsmiles = qsmiles.replace('.[Cl-]', '')\n",
    "        qsmiles = qsmiles.replace('.[Br-]', '')\n",
    "        qsmiles = qsmiles.replace('.[I-]', '')\n",
    "        #print(qsmiles)\n",
    "\n",
    "        qmol = Chem.MolFromSmiles(qsmiles)\n",
    "        qmolw = Chem.RWMol(qmol)\n",
    "\n",
    "        # 2.make sure there is no more dissociation \n",
    "        if '.' not in qsmiles:\n",
    "            \n",
    "            if qmol and qmolw: \n",
    "\n",
    "                # 3.convert all bonds into single bonds:\n",
    "                for bond in qmol.GetBonds():\n",
    "                    bondtype = bond.GetBondType()\n",
    "\n",
    "                    if bondtype != 'SINGLE':\n",
    "                        qmol_begin = bond.GetBeginAtomIdx()\n",
    "                        qmol_end = bond.GetEndAtomIdx()\n",
    "                        qmolw.RemoveBond(qmol_begin, qmol_end)\n",
    "                        qmolw.AddBond(qmol_begin, qmol_end, Chem.BondType.SINGLE)\n",
    "    \n",
    "                        new_mol = qmolw.GetMol()\n",
    "                        new_smiles = Chem.MolToSmiles(new_mol)\n",
    "                        qmol = new_mol\n",
    "                        qmolw = Chem.RWMol(qmol)\n",
    "\n",
    "                # 4.convert all atoms into carbon atoms:\n",
    "                for atom in qmol.GetAtoms():\n",
    "                    if atom != Chem.Atom(6):\n",
    "                        i_non_carbon = atom.GetIdx()\n",
    "                        qmolw.ReplaceAtom(i_non_carbon, Chem.Atom(6))\n",
    "            \n",
    "                        new_mol = qmolw.GetMol()\n",
    "                        new_smiles = Chem.MolToSmiles(new_mol)\n",
    "                        qmol = new_mol\n",
    "                        qmolw = Chem.RWMol(qmol)\n",
    "                        # print(new_smiles)\n",
    "\n",
    "                # 5.remove all the terminal atoms:\n",
    "\n",
    "                result_list = []\n",
    "\n",
    "                while len(result_list) == len(set(result_list)):\n",
    "\n",
    "                    for atom in qmol.GetAtoms():\n",
    "                        \n",
    "                        if atom.GetDegree() == 1:\n",
    "                            result_list = list(set(result_list))\n",
    "                            i = atom.GetIdx()\n",
    "                            qmolw.RemoveAtom(i)\n",
    "                            new_mol = qmolw.GetMol()   \n",
    "                            new_smiles = Chem.MolToSmiles(new_mol)\n",
    "                            qmol = Chem.MolFromSmiles(new_smiles)\n",
    "                            qmolw = Chem.RWMol(qmol)\n",
    "                            result_list.append(new_smiles)\n",
    "                            # print('this is a terminal')\n",
    "                            # print(result_list)\n",
    "                            break\n",
    "\n",
    "                        else:\n",
    "                            # print('not a terminal')\n",
    "                            result_list.append(new_smiles)\n",
    "                            continue\n",
    "\n",
    "                    # if len(result_list) != len(set(result_list)):\n",
    "                        # print('Finish:', result_list)\n",
    "                        # print(new_smiles)\n",
    "\n",
    "                df_output['Framework'][q] = new_smiles\n",
    "        \n",
    "        else:\n",
    "            count += 1\n",
    "            my_list_invaild.append(q)\n",
    "            continue\n",
    "\n",
    "    except:\n",
    "        count += 1\n",
    "        my_list_invaild.append(q)\n",
    "        continue\n",
    "\n",
    "print(count, 'invalids')"
   ]
  },
  {
   "cell_type": "markdown",
   "id": "5380e364",
   "metadata": {},
   "source": [
    "### 4. Wrangling the Data Obtained :\n",
    "\n"
   ]
  },
  {
   "cell_type": "code",
   "execution_count": null,
   "id": "ff6a73eb",
   "metadata": {},
   "outputs": [],
   "source": [
    "# 1.Remove the invalid data: \n",
    "new_df = df_output.drop(my_list_invaild)\n",
    "\n",
    "# Reset the index:\n",
    "new_df = new_df.reset_index(drop = True)\n",
    "\n",
    "print('After remove invalid data:', len(new_df))"
   ]
  },
  {
   "cell_type": "code",
   "execution_count": null,
   "id": "d326881a",
   "metadata": {},
   "outputs": [],
   "source": [
    "# 2.Save the pickle file:\n",
    "with open ('example-each-framework-without-ROMol.pickle','wb') as f:\n",
    "    pickle.dump(new_df,f)"
   ]
  },
  {
   "cell_type": "code",
   "execution_count": null,
   "id": "49299f37",
   "metadata": {},
   "outputs": [],
   "source": [
    "# 3.Add the frequencies and sort all the molecular frameworks:\n",
    "new_df['Frequency'] = 1\n",
    "df_result = new_df.groupby(['Framework'],as_index = False).agg({'Frequency': 'sum'})\n",
    "df_result = df_result.sort_values(by=['Frequency'], ascending = False)\n",
    "\n",
    "# Reset the index:\n",
    "df_result = df_result.reset_index(drop = True)\n",
    "df_result.head(10)"
   ]
  },
  {
   "cell_type": "code",
   "execution_count": null,
   "id": "2c09ef43",
   "metadata": {},
   "outputs": [],
   "source": [
    "print('The number of frameworks obtained is:', len(df_result)-1)"
   ]
  },
  {
   "cell_type": "code",
   "execution_count": null,
   "id": "ccd1015e",
   "metadata": {},
   "outputs": [],
   "source": [
    "# 4.Save the pickle file:\n",
    "with open ('example-frameworks-sorted-without-ROMol.pickle','wb') as f:\n",
    "    pickle.dump(df_result,f)\n"
   ]
  },
  {
   "cell_type": "code",
   "execution_count": null,
   "id": "e993b9cb",
   "metadata": {},
   "outputs": [],
   "source": [
    "# 5.Finish all the code running and print the key outputs:\n",
    "end_time = time.time()\n",
    "duration = round((end_time - start_time)/60)\n",
    "print('This programme took', duration, 'minutes')\n"
   ]
  },
  {
   "cell_type": "markdown",
   "id": "562d7e98",
   "metadata": {},
   "source": [
    "### 5. Display the Frameworks (ony for single-input-file cases, for multiple-input-file cases please use the 'merge' code):"
   ]
  },
  {
   "cell_type": "code",
   "execution_count": null,
   "id": "8589fbb5",
   "metadata": {},
   "outputs": [],
   "source": [
    "# 1.Add ROMol to each framework:\n",
    "PandasTools.AddMoleculeColumnToFrame(df_result, smilesCol = \"Framework\")\n",
    "df_result.head(3)\n",
    "\n",
    "# If the ROMols already have been added before, to display them again:\n",
    "# PandasTools.RenderImagesInAllDataFrames(images=True)"
   ]
  },
  {
   "cell_type": "code",
   "execution_count": null,
   "id": "cb59408d",
   "metadata": {},
   "outputs": [],
   "source": [
    "# 2. Display the results (all or top 10000 frequent frameworks) in a .html file\n",
    "df_result_top=df_result.head(10000)\n",
    "\n",
    "fmolport = open('example-top10000-frameworks-with-ROMol.html','w')\n",
    "h = df_result.to_html()\n",
    "fmolport.write(h)\n",
    "fmolport.close()"
   ]
  }
 ],
 "metadata": {
  "kernelspec": {
   "display_name": "Python 3.10.5 ('env-framework')",
   "language": "python",
   "name": "python3"
  },
  "language_info": {
   "codemirror_mode": {
    "name": "ipython",
    "version": 3
   },
   "file_extension": ".py",
   "mimetype": "text/x-python",
   "name": "python",
   "nbconvert_exporter": "python",
   "pygments_lexer": "ipython3",
   "version": "3.10.5"
  },
  "vscode": {
   "interpreter": {
    "hash": "5bde624476c4049ad7fbc56c23c535bfc90c9a3b8c34dde2d2d80a7fb48de6eb"
   }
  }
 },
 "nbformat": 4,
 "nbformat_minor": 5
}
